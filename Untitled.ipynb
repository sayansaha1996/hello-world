{
 "cells": [
  {
   "cell_type": "code",
   "execution_count": 2,
   "metadata": {},
   "outputs": [],
   "source": [
    "import pymc"
   ]
  },
  {
   "cell_type": "code",
   "execution_count": null,
   "metadata": {},
   "outputs": [
    {
     "name": "stdout",
     "output_type": "stream",
     "text": [
      "Running unit tests for pymc.tests\n",
      "NumPy version 1.17.4\n",
      "NumPy relaxed strides checking option: True\n",
      "NumPy is installed in /home/sayan/anaconda3/lib/python3.7/site-packages/numpy\n",
      "Python version 3.7.4 (default, Aug 13 2019, 20:35:49) [GCC 7.3.0]\n",
      "nose version 1.3.7\n"
     ]
    },
    {
     "name": "stderr",
     "output_type": "stream",
     "text": [
      "/home/sayan/anaconda3/lib/python3.7/site-packages/numpy/matrixlib/defmatrix.py:71: PendingDeprecationWarning: the matrix subclass is not the recommended way to represent matrices or deal with linear algebra (see https://docs.scipy.org/doc/numpy/user/numpy-for-matlab-users.html). Please adjust your code to use regular ndarray.\n",
      "  return matrix(data, dtype=dtype, copy=False)\n",
      "/home/sayan/anaconda3/lib/python3.7/site-packages/pymc/tests/test_distributions.py:1203: PendingDeprecationWarning: the matrix subclass is not the recommended way to represent matrices or deal with linear algebra (see https://docs.scipy.org/doc/numpy/user/numpy-for-matlab-users.html). Please adjust your code to use regular ndarray.\n",
      "  [13.80581557, 11.18453854, 209.89396417]])\n",
      "......./home/sayan/anaconda3/lib/python3.7/site-packages/matplotlib/axes/_axes.py:2042: RuntimeWarning: invalid value encountered in true_divide\n",
      "  correls /= np.sqrt(np.dot(x, x) * np.dot(y, y))\n",
      "......................................S.........."
     ]
    }
   ],
   "source": [
    "pymc.test()"
   ]
  },
  {
   "cell_type": "code",
   "execution_count": null,
   "metadata": {},
   "outputs": [],
   "source": []
  }
 ],
 "metadata": {
  "kernelspec": {
   "display_name": "Python 3",
   "language": "python",
   "name": "python3"
  },
  "language_info": {
   "codemirror_mode": {
    "name": "ipython",
    "version": 3
   },
   "file_extension": ".py",
   "mimetype": "text/x-python",
   "name": "python",
   "nbconvert_exporter": "python",
   "pygments_lexer": "ipython3",
   "version": "3.7.4"
  }
 },
 "nbformat": 4,
 "nbformat_minor": 4
}
